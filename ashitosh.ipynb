{
  "nbformat": 4,
  "nbformat_minor": 0,
  "metadata": {
    "colab": {
      "name": "ashitosh.ipynb",
      "provenance": [],
      "collapsed_sections": []
    },
    "kernelspec": {
      "name": "python3",
      "display_name": "Python 3"
    },
    "language_info": {
      "name": "python"
    }
  },
  "cells": [
    {
      "cell_type": "code",
      "metadata": {
        "id": "VAScm7x87yQ8"
      },
      "source": [
        "import requests"
      ],
      "execution_count": null,
      "outputs": []
    },
    {
      "cell_type": "code",
      "metadata": {
        "id": "51i4hW7q7_bS"
      },
      "source": [
        "from datetime import datetime"
      ],
      "execution_count": null,
      "outputs": []
    },
    {
      "cell_type": "code",
      "metadata": {
        "colab": {
          "base_uri": "https://localhost:8080/"
        },
        "id": "yfLMhCNP8Ebs",
        "outputId": "39ce7835-bce1-431a-e2bd-4c8aad6c143b"
      },
      "source": [
        "api_key= '87d845b0b6cf29baa1a73cc34b067a95'\n",
        "location = input(\"enter the city name:\")\n",
        "\n",
        "complete_api_link = \"https://api.openweathermap.org/data/2.5/weather?q=\"+location+\"&appid=\"+api_key\n",
        "api_link = requests.get(complete_api_link)\n",
        "api_data = api_link.json()\n",
        "\n",
        "temp_city = ((api_data['main']['temp']) - 273.15)\n",
        "weather_desc = api_data['weather'][0]['description']\n",
        "hmdt = api_data['main']['humidity']\n",
        "wind_spd = api_data['wind']['speed']\n",
        "date_time = datetime.now().strftime(\"%d %b %Y | %I:%M:%S %p\")\n",
        "\n",
        "print (\"-------------------------------------------------------------\")\n",
        "print (\"Weather Stats for - {}  || {}\".format(location.upper(), date_time))\n",
        "print (\"-------------------------------------------------------------\")\n",
        "\n",
        "\n",
        "print (\"Current temperature is: {:.2f} deg C\".format(temp_city))\n",
        "print (\"Current weather desc  :\",weather_desc)\n",
        "print (\"Current Humidity      :\",hmdt, '%')\n",
        "print (\"Current wind speed    :\",wind_spd ,'kmph')"
      ],
      "execution_count": 47,
      "outputs": [
        {
          "output_type": "stream",
          "text": [
            "enter the city name:mysore\n",
            "-------------------------------------------------------------\n",
            "Weather Stats for - MYSORE  || 23 Jun 2021 | 12:55:38 PM\n",
            "-------------------------------------------------------------\n",
            "Current temperature is: 30.00 deg C\n",
            "Current weather desc  : scattered clouds\n",
            "Current Humidity      : 51 %\n",
            "Current wind speed    : 6.69 kmph\n"
          ],
          "name": "stdout"
        }
      ]
    },
    {
      "cell_type": "code",
      "metadata": {
        "id": "sEwTCvNL8b4p"
      },
      "source": [
        "txtdoc=[temp_city,weather_desc,hmdt,wind_spd,date_time]\n",
        "with open(\"Abhi_cyber_security.txt\",'w',encoding = 'utf-8')as f:\n",
        "  f.write(\"-----------------------------------------------------------------------------------\")\n",
        "  f.write(\"Weather Stats for - {} || {}\".format(location.upper(),date_time))\n",
        "  f.write(\"-----------------------------------------------------------------------------------\")\n",
        "  f.write(\"current Temperature is: {:.2f} deg C\\n\".format(txtdoc[0]))\n",
        "\n",
        "  f.write(\"{} , {} \\n\" .format(\"current weather desc : \" ,txtdoc[1]))\n",
        "  f.write(\"{} ,{} ,{} \\n\".format(\"current humidity:\",txtdoc[2],\"%\"))\n",
        "  f.write(\"{} ,{} ,{} \\n\".format(\"current wind speed:\",txtdoc[3],\"kmph\"))\n",
        "  f.write(\"-----------------------------------------------------------------------------------\")\n",
        "\n",
        "  f.close"
      ],
      "execution_count": 52,
      "outputs": []
    }
  ]
}