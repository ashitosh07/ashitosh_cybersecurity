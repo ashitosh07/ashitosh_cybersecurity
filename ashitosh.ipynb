{
  "nbformat": 4,
  "nbformat_minor": 0,
  "metadata": {
    "colab": {
      "name": "ashitosh_cybersecurity.ipynb",
      "provenance": [],
      "collapsed_sections": []
    },
    "kernelspec": {
      "display_name": "Python 3",
      "name": "python3"
    },
    "language_info": {
      "name": "python"
    }
  },
  "cells": [
    {
      "cell_type": "code",
      "metadata": {
        "id": "9iozS0vfAz77"
      },
      "source": [
        "import requests"
      ],
      "execution_count": 10,
      "outputs": []
    },
    {
      "cell_type": "code",
      "metadata": {
        "id": "KXEo2MUMMYo9"
      },
      "source":[
        "from datetime import datetime"
      ],
      "execution_count": 11,
      "outputs": []
    },
    {
      "cell_type": "code",
      "metadata": {
        "id": "GbSWzCIzMgOU",
        "colab": {
          "base_uri": "https://localhost:8080/"
        },
        "outputId": "f608fd86-d759-4a6c-c87f-ee87dd942607"
      },
      "source": [
        "api_key= '87d845b0b6cf29baa1a73cc34b067a95'\n",
        "location = input(\"enter the city name:\")\n",
        "\n",
        "complete_api_link = \"https://api.openweathermap.org/data/2.5/weather?q=\"+location+\"&appid=\"+api_key\n",
        "api_link = requests.get(complete_api_link)\n",
        "api_data = api_link.json()\n",
        "\n",
        "temp_city = ((api_data['main']['temp']) - 273.15)\n",
        "weather_desc = api_data['weather'][0]['description']\n",
        "hmdt = api_data['main']['humidity']\n",
        "wind_spd = api_data['wind']['speed']\n",
        "date_time = datetime.now().strftime(\"%d %b %Y | %I:%M:%S %p\")\n",
        "\n",
        "print (\"-------------------------------------------------------------\")\n",
        "print (\"Weather Stats for - {}  || {}\".format(location.upper(), date_time))\n",
        "print (\"-------------------------------------------------------------\")\n",
        "\n",
        "\n",
        "print (\"Current temperature is: {:.2f} deg C\".format(temp_city))\n",
        "print (\"Current weather desc  :\",weather_desc)\n",
        "print (\"Current Humidity      :\",hmdt, '%')\n",
        "print (\"Current wind speed    :\",wind_spd ,'kmph') \n",
        "\n",
        "\n"
      ],
      "execution_count": 32,
      "outputs": [
        {
          "output_type": "stream",
          "text": [
            "enter the city name: Mysore\n",
            "-------------------------------------------------------------\n",
            "Weather Stats for -  MYSORE  || 23 Jun 2021 | 11:46:17 AM\n",
            "-------------------------------------------------------------\n",
            "Current temperature is: 31.00 deg C\n",
            "Current weather desc  : scattered clouds\n",
            "Current Humidity      : 45 %\n",
            "Current wind speed    : 6.69 kmph\n"
          ],
          "name": "stdout"
        }
      ]
    },
    {
      "cell_type": "code",
      "metadata": {
        "id": "6g9qxs0gY0p8",
        "colab": {
          "base_uri": "https://localhost:8080/"
        },
        "outputId": "c40537df-71da-4570-ddbf-f02e77cf84ee"
      },
      "source": [
        "txtdoc=[temp_city,weather_desc,hmdt,wind_spd,date_time]\n",
        "with open(\"ashitosh_cyber_security.txt\",'w',encoding = 'utf-8')as f:\n",
        "\n",
        "   f.write(\"-----------------------------------------------------------------------------------\")\n",
        "   f.write(\"Weather Stats for - {} || {}\".format(location.upper(),date_time))\n",
        "   f.write(\"-----------------------------------------------------------------------------------\")\n",
        "   f.write(\"current Temperature is: {:.2f} deg C\\n\".format(txtdoc[0]))\n",
        "\n",
        "\n",
        "   f.write(\"{} , {} \\n\" .format(\"current weather desc : \" ,txtdoc[1]))\n",
        "   f.write(\"{} ,{} ,{} \\n\".format(\"current humidity:\",txtdoc[2],\"%\"))\n",
        "   f.write(\"{} ,{} ,{} \\n\".format(\"current wind speed:\",txtdoc[3],\"kmph\"))\n",
        "   f.write(\"-----------------------------------------------------------------------------------\")\n",
        "\n",
        "\n",
        "    f.close\n",
        "\n",
        "\n",
        "\n",
        "\n",
        "\n"
      ],
      "execution_count": 25,
      "outputs": [
        {
          "output_type": "execute_result",
          "data": {
            "text/plain": [
              "<function TextIOWrapper.close>"
            ]
          },
          "metadata": {
            "tags": []
          },
          "execution_count": 25
        }
      ]
    }
  ]
}
